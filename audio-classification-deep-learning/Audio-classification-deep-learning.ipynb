{
 "cells": [
  {
   "cell_type": "markdown",
   "id": "a2cecfc3-9ca9-4cf8-8a6c-51eae372819b",
   "metadata": {},
   "source": [
    "## Audio Classification using Tensorflow "
   ]
  },
  {
   "cell_type": "code",
   "execution_count": 1,
   "id": "036c7d6e",
   "metadata": {},
   "outputs": [],
   "source": [
    "# import os\n",
    "# import shutil\n",
    "\n",
    "# # Define your source and destination folders\n",
    "# mysource_folder = '/home/johnadi/Desktop/data-science-projects/audio-classification-deep-learning/wavfiles'\n",
    "# mydestination_folder = '/home/johnadi/Desktop/data-science-projects/audio-classification-deep-learning/wavfiles_combined'\n",
    "\n",
    "# # Loop through all files and subdirectories in source folder\n",
    "# for item in os.listdir(mysource_folder):\n",
    "    \n",
    "#     # Create full path for the item\n",
    "#     myitem_path = os.path.join(mysource_folder, item)\n",
    "    \n",
    "#     # Check if item is a file\n",
    "#     if os.path.isfile(myitem_path):\n",
    "#         # Copy the file to the destination folder\n",
    "#         shutil.copy2(myitem_path, mydestination_folder)\n",
    "        \n",
    "#     # Check if item is a directory\n",
    "#     elif os.path.isdir(myitem_path):\n",
    "#         # Loop through all files and subdirectories in the directory\n",
    "#         for subitem in os.listdir(myitem_path):\n",
    "#             # Create full path for the subitem\n",
    "#             mysubitem_path = os.path.join(myitem_path, subitem)\n",
    "#             # Copy the subitem to the destination folder\n",
    "#             shutil.copy2(mysubitem_path, mydestination_folder)"
   ]
  },
  {
   "cell_type": "code",
   "execution_count": 14,
   "id": "acde40bb",
   "metadata": {},
   "outputs": [
    {
     "data": {
      "text/plain": [
       "'/home/johnadi/Desktop/data-science-projects/audio-classification-deep-learning/deb87700.wav'"
      ]
     },
     "execution_count": 14,
     "metadata": {},
     "output_type": "execute_result"
    }
   ],
   "source": []
  },
  {
   "cell_type": "code",
   "execution_count": null,
   "id": "14476d0b",
   "metadata": {},
   "outputs": [],
   "source": []
  }
 ],
 "metadata": {
  "kernelspec": {
   "display_name": "Python 3 (ipykernel)",
   "language": "python",
   "name": "python3"
  },
  "language_info": {
   "codemirror_mode": {
    "name": "ipython",
    "version": 3
   },
   "file_extension": ".py",
   "mimetype": "text/x-python",
   "name": "python",
   "nbconvert_exporter": "python",
   "pygments_lexer": "ipython3",
   "version": "3.7.16"
  }
 },
 "nbformat": 4,
 "nbformat_minor": 5
}
